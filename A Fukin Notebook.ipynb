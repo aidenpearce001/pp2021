{
 "cells": [
  {
   "cell_type": "code",
   "execution_count": 53,
   "metadata": {},
   "outputs": [],
   "source": [
    "import json\n",
    "import pandas as pd\n",
    "from collections import Counter"
   ]
  },
  {
   "cell_type": "markdown",
   "metadata": {},
   "source": [
    "# Labwork 1"
   ]
  },
  {
   "cell_type": "code",
   "execution_count": 46,
   "metadata": {},
   "outputs": [],
   "source": [
    "def select_course(nums):\n",
    "\n",
    "    course_list = {}\n",
    "    \n",
    "    dict_courses = {\n",
    "        1: \"Advanced Python\",\n",
    "        2: \"Signal and System\",\n",
    "        3: \"IPM\",\n",
    "        4: \"FRENCH\"\n",
    "    }\n",
    "\n",
    "    print(\"\"\"\n",
    "        Courses that you can select:\n",
    "        1.Advanced Python \n",
    "        2.Signal and System\n",
    "        3.IPM\n",
    "        4.FRENCH\n",
    "        \"\"\")\n",
    "\n",
    "    for i in range(nums):\n",
    "        course = int(input(f'select the {i+1} course : '))\n",
    "        print(dict_courses[course])\n",
    "        mark = int(input(f'your fukin mark for {dict_courses.get(course)} : '))\n",
    "        course_list[dict_courses.get(course)] = mark\n",
    "        \n",
    "    return course_list\n",
    "# select_course(2)"
   ]
  },
  {
   "cell_type": "code",
   "execution_count": 163,
   "metadata": {},
   "outputs": [
    {
     "name": "stdout",
     "output_type": "stream",
     "text": [
      "Name: dsa\n",
      "ID: saf\n",
      "ERROR invalid literal for int() with base 10: 'saf'\n",
      "Name: fds\n",
      "ID: fds\n",
      "ERROR invalid literal for int() with base 10: 'fds'\n",
      "Name: fds\n",
      "ID: f\n",
      "ERROR invalid literal for int() with base 10: 'f'\n",
      "Name: ds\n",
      "ID: fds\n",
      "ERROR invalid literal for int() with base 10: 'fds'\n",
      "Name: dsf\n"
     ]
    },
    {
     "ename": "KeyboardInterrupt",
     "evalue": "Interrupted by user",
     "output_type": "error",
     "traceback": [
      "\u001b[1;31m---------------------------------------------------------------------------\u001b[0m",
      "\u001b[1;31mKeyboardInterrupt\u001b[0m                         Traceback (most recent call last)",
      "\u001b[1;32m<ipython-input-163-2f43b4f6b742>\u001b[0m in \u001b[0;36m<module>\u001b[1;34m\u001b[0m\n\u001b[0;32m     27\u001b[0m \u001b[1;33m\u001b[0m\u001b[0m\n\u001b[0;32m     28\u001b[0m \u001b[0mnums_of_student\u001b[0m \u001b[1;33m=\u001b[0m \u001b[1;36m2\u001b[0m\u001b[1;33m\u001b[0m\u001b[1;33m\u001b[0m\u001b[0m\n\u001b[1;32m---> 29\u001b[1;33m \u001b[0minput_func\u001b[0m\u001b[1;33m(\u001b[0m\u001b[0mnums_of_student\u001b[0m\u001b[1;33m)\u001b[0m\u001b[1;33m\u001b[0m\u001b[1;33m\u001b[0m\u001b[0m\n\u001b[0m",
      "\u001b[1;32m<ipython-input-163-2f43b4f6b742>\u001b[0m in \u001b[0;36minput_func\u001b[1;34m(nums)\u001b[0m\n\u001b[0;32m     23\u001b[0m         \u001b[1;32mexcept\u001b[0m \u001b[0mException\u001b[0m \u001b[1;32mas\u001b[0m \u001b[0me\u001b[0m\u001b[1;33m:\u001b[0m\u001b[1;33m\u001b[0m\u001b[1;33m\u001b[0m\u001b[0m\n\u001b[0;32m     24\u001b[0m             \u001b[0mprint\u001b[0m\u001b[1;33m(\u001b[0m\u001b[1;34m'ERROR'\u001b[0m\u001b[1;33m,\u001b[0m\u001b[0me\u001b[0m\u001b[1;33m)\u001b[0m\u001b[1;33m\u001b[0m\u001b[1;33m\u001b[0m\u001b[0m\n\u001b[1;32m---> 25\u001b[1;33m             \u001b[0minput_func\u001b[0m\u001b[1;33m(\u001b[0m\u001b[0mnums\u001b[0m\u001b[1;33m)\u001b[0m\u001b[1;33m\u001b[0m\u001b[1;33m\u001b[0m\u001b[0m\n\u001b[0m\u001b[0;32m     26\u001b[0m     \u001b[1;31m# student(sid,name,dob)\u001b[0m\u001b[1;33m\u001b[0m\u001b[1;33m\u001b[0m\u001b[1;33m\u001b[0m\u001b[0m\n\u001b[0;32m     27\u001b[0m \u001b[1;33m\u001b[0m\u001b[0m\n",
      "\u001b[1;32m<ipython-input-163-2f43b4f6b742>\u001b[0m in \u001b[0;36minput_func\u001b[1;34m(nums)\u001b[0m\n\u001b[0;32m     23\u001b[0m         \u001b[1;32mexcept\u001b[0m \u001b[0mException\u001b[0m \u001b[1;32mas\u001b[0m \u001b[0me\u001b[0m\u001b[1;33m:\u001b[0m\u001b[1;33m\u001b[0m\u001b[1;33m\u001b[0m\u001b[0m\n\u001b[0;32m     24\u001b[0m             \u001b[0mprint\u001b[0m\u001b[1;33m(\u001b[0m\u001b[1;34m'ERROR'\u001b[0m\u001b[1;33m,\u001b[0m\u001b[0me\u001b[0m\u001b[1;33m)\u001b[0m\u001b[1;33m\u001b[0m\u001b[1;33m\u001b[0m\u001b[0m\n\u001b[1;32m---> 25\u001b[1;33m             \u001b[0minput_func\u001b[0m\u001b[1;33m(\u001b[0m\u001b[0mnums\u001b[0m\u001b[1;33m)\u001b[0m\u001b[1;33m\u001b[0m\u001b[1;33m\u001b[0m\u001b[0m\n\u001b[0m\u001b[0;32m     26\u001b[0m     \u001b[1;31m# student(sid,name,dob)\u001b[0m\u001b[1;33m\u001b[0m\u001b[1;33m\u001b[0m\u001b[1;33m\u001b[0m\u001b[0m\n\u001b[0;32m     27\u001b[0m \u001b[1;33m\u001b[0m\u001b[0m\n",
      "\u001b[1;32m<ipython-input-163-2f43b4f6b742>\u001b[0m in \u001b[0;36minput_func\u001b[1;34m(nums)\u001b[0m\n\u001b[0;32m     23\u001b[0m         \u001b[1;32mexcept\u001b[0m \u001b[0mException\u001b[0m \u001b[1;32mas\u001b[0m \u001b[0me\u001b[0m\u001b[1;33m:\u001b[0m\u001b[1;33m\u001b[0m\u001b[1;33m\u001b[0m\u001b[0m\n\u001b[0;32m     24\u001b[0m             \u001b[0mprint\u001b[0m\u001b[1;33m(\u001b[0m\u001b[1;34m'ERROR'\u001b[0m\u001b[1;33m,\u001b[0m\u001b[0me\u001b[0m\u001b[1;33m)\u001b[0m\u001b[1;33m\u001b[0m\u001b[1;33m\u001b[0m\u001b[0m\n\u001b[1;32m---> 25\u001b[1;33m             \u001b[0minput_func\u001b[0m\u001b[1;33m(\u001b[0m\u001b[0mnums\u001b[0m\u001b[1;33m)\u001b[0m\u001b[1;33m\u001b[0m\u001b[1;33m\u001b[0m\u001b[0m\n\u001b[0m\u001b[0;32m     26\u001b[0m     \u001b[1;31m# student(sid,name,dob)\u001b[0m\u001b[1;33m\u001b[0m\u001b[1;33m\u001b[0m\u001b[1;33m\u001b[0m\u001b[0m\n\u001b[0;32m     27\u001b[0m \u001b[1;33m\u001b[0m\u001b[0m\n",
      "\u001b[1;32m<ipython-input-163-2f43b4f6b742>\u001b[0m in \u001b[0;36minput_func\u001b[1;34m(nums)\u001b[0m\n\u001b[0;32m     23\u001b[0m         \u001b[1;32mexcept\u001b[0m \u001b[0mException\u001b[0m \u001b[1;32mas\u001b[0m \u001b[0me\u001b[0m\u001b[1;33m:\u001b[0m\u001b[1;33m\u001b[0m\u001b[1;33m\u001b[0m\u001b[0m\n\u001b[0;32m     24\u001b[0m             \u001b[0mprint\u001b[0m\u001b[1;33m(\u001b[0m\u001b[1;34m'ERROR'\u001b[0m\u001b[1;33m,\u001b[0m\u001b[0me\u001b[0m\u001b[1;33m)\u001b[0m\u001b[1;33m\u001b[0m\u001b[1;33m\u001b[0m\u001b[0m\n\u001b[1;32m---> 25\u001b[1;33m             \u001b[0minput_func\u001b[0m\u001b[1;33m(\u001b[0m\u001b[0mnums\u001b[0m\u001b[1;33m)\u001b[0m\u001b[1;33m\u001b[0m\u001b[1;33m\u001b[0m\u001b[0m\n\u001b[0m\u001b[0;32m     26\u001b[0m     \u001b[1;31m# student(sid,name,dob)\u001b[0m\u001b[1;33m\u001b[0m\u001b[1;33m\u001b[0m\u001b[1;33m\u001b[0m\u001b[0m\n\u001b[0;32m     27\u001b[0m \u001b[1;33m\u001b[0m\u001b[0m\n",
      "\u001b[1;32m<ipython-input-163-2f43b4f6b742>\u001b[0m in \u001b[0;36minput_func\u001b[1;34m(nums)\u001b[0m\n\u001b[0;32m      8\u001b[0m \u001b[1;33m\u001b[0m\u001b[0m\n\u001b[0;32m      9\u001b[0m             \u001b[0mname\u001b[0m \u001b[1;33m=\u001b[0m \u001b[0mstr\u001b[0m\u001b[1;33m(\u001b[0m\u001b[0minput\u001b[0m\u001b[1;33m(\u001b[0m\u001b[1;34m'Name: '\u001b[0m\u001b[1;33m)\u001b[0m\u001b[1;33m)\u001b[0m\u001b[1;33m\u001b[0m\u001b[1;33m\u001b[0m\u001b[0m\n\u001b[1;32m---> 10\u001b[1;33m             \u001b[0msid\u001b[0m \u001b[1;33m=\u001b[0m \u001b[0mint\u001b[0m\u001b[1;33m(\u001b[0m\u001b[0minput\u001b[0m\u001b[1;33m(\u001b[0m\u001b[1;34m'ID: '\u001b[0m\u001b[1;33m)\u001b[0m\u001b[1;33m)\u001b[0m\u001b[1;33m\u001b[0m\u001b[1;33m\u001b[0m\u001b[0m\n\u001b[0m\u001b[0;32m     11\u001b[0m             \u001b[0mdob\u001b[0m \u001b[1;33m=\u001b[0m \u001b[0mstr\u001b[0m\u001b[1;33m(\u001b[0m\u001b[0minput\u001b[0m\u001b[1;33m(\u001b[0m\u001b[1;34m'Date Of Birth: '\u001b[0m\u001b[1;33m)\u001b[0m\u001b[1;33m)\u001b[0m\u001b[1;33m\u001b[0m\u001b[1;33m\u001b[0m\u001b[0m\n\u001b[0;32m     12\u001b[0m \u001b[1;33m\u001b[0m\u001b[0m\n",
      "\u001b[1;32mC:\\ProgramData\\Anaconda3\\lib\\site-packages\\ipykernel\\kernelbase.py\u001b[0m in \u001b[0;36mraw_input\u001b[1;34m(self, prompt)\u001b[0m\n\u001b[0;32m    858\u001b[0m                 \u001b[1;34m\"raw_input was called, but this frontend does not support input requests.\"\u001b[0m\u001b[1;33m\u001b[0m\u001b[1;33m\u001b[0m\u001b[0m\n\u001b[0;32m    859\u001b[0m             )\n\u001b[1;32m--> 860\u001b[1;33m         return self._input_request(str(prompt),\n\u001b[0m\u001b[0;32m    861\u001b[0m             \u001b[0mself\u001b[0m\u001b[1;33m.\u001b[0m\u001b[0m_parent_ident\u001b[0m\u001b[1;33m,\u001b[0m\u001b[1;33m\u001b[0m\u001b[1;33m\u001b[0m\u001b[0m\n\u001b[0;32m    862\u001b[0m             \u001b[0mself\u001b[0m\u001b[1;33m.\u001b[0m\u001b[0m_parent_header\u001b[0m\u001b[1;33m,\u001b[0m\u001b[1;33m\u001b[0m\u001b[1;33m\u001b[0m\u001b[0m\n",
      "\u001b[1;32mC:\\ProgramData\\Anaconda3\\lib\\site-packages\\ipykernel\\kernelbase.py\u001b[0m in \u001b[0;36m_input_request\u001b[1;34m(self, prompt, ident, parent, password)\u001b[0m\n\u001b[0;32m    902\u001b[0m             \u001b[1;32mexcept\u001b[0m \u001b[0mKeyboardInterrupt\u001b[0m\u001b[1;33m:\u001b[0m\u001b[1;33m\u001b[0m\u001b[1;33m\u001b[0m\u001b[0m\n\u001b[0;32m    903\u001b[0m                 \u001b[1;31m# re-raise KeyboardInterrupt, to truncate traceback\u001b[0m\u001b[1;33m\u001b[0m\u001b[1;33m\u001b[0m\u001b[1;33m\u001b[0m\u001b[0m\n\u001b[1;32m--> 904\u001b[1;33m                 \u001b[1;32mraise\u001b[0m \u001b[0mKeyboardInterrupt\u001b[0m\u001b[1;33m(\u001b[0m\u001b[1;34m\"Interrupted by user\"\u001b[0m\u001b[1;33m)\u001b[0m \u001b[1;32mfrom\u001b[0m \u001b[1;32mNone\u001b[0m\u001b[1;33m\u001b[0m\u001b[1;33m\u001b[0m\u001b[0m\n\u001b[0m\u001b[0;32m    905\u001b[0m             \u001b[1;32mexcept\u001b[0m \u001b[0mException\u001b[0m \u001b[1;32mas\u001b[0m \u001b[0me\u001b[0m\u001b[1;33m:\u001b[0m\u001b[1;33m\u001b[0m\u001b[1;33m\u001b[0m\u001b[0m\n\u001b[0;32m    906\u001b[0m                 \u001b[0mself\u001b[0m\u001b[1;33m.\u001b[0m\u001b[0mlog\u001b[0m\u001b[1;33m.\u001b[0m\u001b[0mwarning\u001b[0m\u001b[1;33m(\u001b[0m\u001b[1;34m\"Invalid Message:\"\u001b[0m\u001b[1;33m,\u001b[0m \u001b[0mexc_info\u001b[0m\u001b[1;33m=\u001b[0m\u001b[1;32mTrue\u001b[0m\u001b[1;33m)\u001b[0m\u001b[1;33m\u001b[0m\u001b[1;33m\u001b[0m\u001b[0m\n",
      "\u001b[1;31mKeyboardInterrupt\u001b[0m: Interrupted by user"
     ]
    }
   ],
   "source": [
    "student_list = []\n",
    "\n",
    "def input_func(nums):\n",
    "    for i in range(nums):\n",
    "        \n",
    "        try:\n",
    "            each_student = {}\n",
    "\n",
    "            name = str(input('Name: '))\n",
    "            sid = int(input('ID: '))\n",
    "            dob = str(input('Date Of Birth: '))\n",
    "\n",
    "            each_student['Name'] = name\n",
    "            each_student['ID'] = sid\n",
    "            each_student['BoD'] = dob\n",
    "\n",
    "            course = input('Input the fukin number(how many course you want) : ')\n",
    "    #         course = 2 \n",
    "\n",
    "            each_student['course'] = select_course(nums)\n",
    "\n",
    "            student_list.append(each_student)\n",
    "        except Exception as e:\n",
    "            print('ERROR',e)\n",
    "            print('Something not right, plz enter again')\n",
    "            input_func(nums)\n",
    "    # student(sid,name,dob)\n",
    "\n",
    "nums_of_student = 2\n",
    "input_func(nums_of_student)"
   ]
  },
  {
   "cell_type": "code",
   "execution_count": 160,
   "metadata": {
    "scrolled": true
   },
   "outputs": [
    {
     "name": "stdout",
     "output_type": "stream",
     "text": [
      "Total student : 2\n",
      "List Student : aiden,na\n",
      "Number of Student register Advanced Python : 2\n",
      "Number of Student register FRENCH : 1\n",
      "Number of Student register Signal and System : 1\n",
      "List of students marks in FRENCH\n",
      "aiden: 8\n"
     ]
    }
   ],
   "source": [
    "def listing():\n",
    "    ls = []\n",
    "    print('Total student :',len(student_list))\n",
    "    print('List Student :',','.join(list(student_list[_]['Name'] for _ in range(len(student_list)))))\n",
    "    \n",
    "    for _ in range(len(student_list)):\n",
    "        ls1 = [ls.append(i) for i in list(student_list[_].get('course'))]\n",
    "    total_course = Counter(ls)\n",
    "    \n",
    "    for i in range(len(total_course)):\n",
    "        print(f'Number of Student register {list(total_course.keys())[i]} : {total_course[list(total_course.keys())[i]]}')\n",
    "        \n",
    "    \n",
    "    try:\n",
    "#         get_mark = input('Get all Student Mark in course : ') \n",
    "        get_mark = 'FRENCH'\n",
    "    \n",
    "        print(f'List of students marks in {get_mark}')\n",
    "        for i in student_list:\n",
    "            if get_mark in i['course']:\n",
    "                print(i['Name'] + ': ' + str(i['course'][get_mark]) )\n",
    "    except Exception as e: \n",
    "        print('No one Study this course')\n",
    "        print('ERROR',e)\n",
    "    \n",
    "listing()   "
   ]
  },
  {
   "cell_type": "markdown",
   "metadata": {},
   "source": [
    "# Labwork 2"
   ]
  },
  {
   "cell_type": "code",
   "execution_count": 54,
   "metadata": {},
   "outputs": [],
   "source": [
    "class Student:\n",
    "    def __init__(self, name, sid, dob, course):\n",
    "        self.name   = name\n",
    "        self.sid    = sid\n",
    "        self.dob    = dob\n",
    "        self.course = course\n",
    "         \n",
    "    def add(self, name, sid, dob, course): \n",
    "        ob = Student(name, sid, dob, course)\n",
    "        ls.append(ob)\n",
    "  \n",
    "    def display(self, ob):\n",
    "            print(f\"\"\"Name : {ob.name}\\nStudent ID : {ob.sid}\\nDate Of Birth : {ob.dob}\\nNumber of Course assign : {len(ob.course)}\"\"\")\n",
    "            for _ in range(len(ob.course)):\n",
    "                print(f\"Marks of {ob.course[_][0]} :\", ob.course[_][1])\n",
    "            print(\"------------------------------------\")\n",
    "         \n",
    "    def search_by_course(self, course_name) -> str : \n",
    "        \n",
    "        course_manage = []\n",
    "        \n",
    "        for i in range(ls.__len__()):\n",
    "            if course_name in ls[i].course[0][0]:\n",
    "                course_manage.append(ls[i].name)\n",
    "    \n",
    "        print(f\"Number of student assign {course_name} : \",len(course_manage))\n",
    "        print(\"Name :\",\", \".join(str(x) for x in course_manage))\n",
    "  \n",
    "    def delete(self, name):\n",
    "        for i in range(ls.__len__()):\n",
    "            if name in ls[i].name:\n",
    "                print(f\"Student name: {name} will be kick out\")\n",
    "                del ls[i]\n"
   ]
  },
  {
   "cell_type": "code",
   "execution_count": 55,
   "metadata": {},
   "outputs": [
    {
     "name": "stdout",
     "output_type": "stream",
     "text": [
      "Name : Aiden\n",
      "Student ID : bi10-124\n",
      "Date Of Birth : 2001\n",
      "Number of Course assign : 4\n",
      "Marks of Advanced Programming  : 17.5\n",
      "Marks of French  : 15.25\n",
      "Marks of Singal  : 14.25\n",
      "Marks of Basic Database : 17.25\n",
      "------------------------------------\n",
      "Name : Na\n",
      "Student ID : bi10-010\n",
      "Date Of Birth : 2001\n",
      "Number of Course assign : 3\n",
      "Marks of Advanced Programming : 16.75\n",
      "Marks of Chemistry : 12.25\n",
      "Marks of Web Dev : 19\n",
      "------------------------------------\n",
      "Name : Mr.Killer\n",
      "Student ID : ????\n",
      "Date Of Birth : \n",
      "Number of Course assign : 2\n",
      "Marks of Kamikaze : 19\n",
      "Marks of Throwing knife : 18\n",
      "------------------------------------\n",
      "Number of student assign Advanced Programming :  2\n",
      "Name : Aiden, Na\n",
      "Student name: Mr.Killer will be kick out\n"
     ]
    }
   ],
   "source": [
    "ls =[]\n",
    "\n",
    "obj = Student('' ,'', '' ,  0)\n",
    "obj.add('Aiden', 'bi10-124', '2001', (('Advanced Programming ','17.5'),('French ','15.25'), ('Singal ','14.25'), ('Basic Database','17.25')) )\n",
    "obj.add('Na', 'bi10-010', '2001', (('Advanced Programming','16.75'),('Chemistry','12.25'), ('Web Dev', '19')) )\n",
    "obj.add('Mr.Killer', '????', '', (('Kamikaze','19'),('Throwing knife','18')) )\n",
    "\n",
    "for i in range(len(ls)):\n",
    "    obj.display(ls[i])\n",
    "    \n",
    "obj.search_by_course('Advanced Programming')\n",
    "\n",
    "obj.delete('Mr.Killer')"
   ]
  },
  {
   "cell_type": "markdown",
   "metadata": {},
   "source": [
    "# Labwork 3"
   ]
  },
  {
   "cell_type": "code",
   "execution_count": 63,
   "metadata": {},
   "outputs": [],
   "source": [
    "import math\n",
    "import numpy"
   ]
  },
  {
   "cell_type": "code",
   "execution_count": 64,
   "metadata": {},
   "outputs": [
    {
     "name": "stdout",
     "output_type": "stream",
     "text": [
      "Requirement already satisfied: windows-curses in c:\\programdata\\anaconda3\\lib\\site-packages (2.2.0)\n"
     ]
    }
   ],
   "source": [
    "! pip install windows-curses"
   ]
  },
  {
   "cell_type": "code",
   "execution_count": 114,
   "metadata": {},
   "outputs": [],
   "source": [
    "class Mark_Manager:\n",
    "    def __init__(self, name):\n",
    "        self.name = name\n",
    "    \n",
    "    def round_down(self, name) -> int:\n",
    "        print(\"ROUND-DOWN Marks\")\n",
    "        for _ in range(ls.__len__()):\n",
    "            if name == ls[_].name:\n",
    "                for subject in ls[_].course:\n",
    "                    print(f\"Mark of {subject[0]} round-down to: { math.floor(float(subject[1])) }\")\n",
    "     \n",
    "    def GPA(self, name):\n",
    "        for _ in range(ls.__len__()):\n",
    "            if name == ls[_].name:\n",
    "                \n",
    "                GPA = numpy.mean([float(i[1]) for i in ls[_].course])\n",
    "                print(f\"GPA's {name} is : { GPA }\")\n",
    "            \n",
    "                return tuple((GPA ,name))\n",
    "    def sort_by_GPA(self):\n",
    "        \n",
    "        GPA_list = [self.GPA(ls[_].name) for _ in range(len(ls)) ]\n",
    "    \n",
    "        descending = sorted(GPA_list, key=lambda i: i[1])\n",
    "                \n",
    "        for top,value in enumerate(descending):\n",
    "            print(f\"Ranking {top+1} is {value[0]} with {value[1]} points\")"
   ]
  },
  {
   "cell_type": "code",
   "execution_count": 110,
   "metadata": {},
   "outputs": [
    {
     "data": {
      "text/plain": [
       "['Aiden', 'Na']"
      ]
     },
     "execution_count": 110,
     "metadata": {},
     "output_type": "execute_result"
    }
   ],
   "source": [
    "[ ls[_].name for _ in range(len(ls)) ]"
   ]
  },
  {
   "cell_type": "code",
   "execution_count": 117,
   "metadata": {},
   "outputs": [
    {
     "name": "stdout",
     "output_type": "stream",
     "text": [
      "ROUND-DOWN Marks\n",
      "Mark of Advanced Programming  round-down to: 17\n",
      "Mark of French  round-down to: 15\n",
      "Mark of Singal  round-down to: 14\n",
      "Mark of Basic Database round-down to: 17\n",
      "GPA's Aiden is : 16.0625\n",
      "GPA's Na is : 16.0\n",
      "Ranking 1 is 16.0625 with Aiden points\n",
      "Ranking 2 is 16.0 with Na points\n"
     ]
    }
   ],
   "source": [
    "t = Mark_Manager('Aiden',)\n",
    "t.round_down('Aiden')\n",
    "# t.GPA('Aiden')\n",
    "t.sort_by_GPA()"
   ]
  }
 ],
 "metadata": {
  "kernelspec": {
   "display_name": "Python 3",
   "language": "python",
   "name": "python3"
  },
  "language_info": {
   "codemirror_mode": {
    "name": "ipython",
    "version": 3
   },
   "file_extension": ".py",
   "mimetype": "text/x-python",
   "name": "python",
   "nbconvert_exporter": "python",
   "pygments_lexer": "ipython3",
   "version": "3.8.5"
  }
 },
 "nbformat": 4,
 "nbformat_minor": 4
}
