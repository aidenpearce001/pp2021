{
 "cells": [
  {
   "cell_type": "code",
   "execution_count": 76,
   "metadata": {},
   "outputs": [],
   "source": [
    "import json\n",
    "import pandas as pd\n",
    "from collections import Counter"
   ]
  },
  {
   "cell_type": "code",
   "execution_count": 46,
   "metadata": {},
   "outputs": [],
   "source": [
    "def select_course(nums):\n",
    "\n",
    "    course_list = {}\n",
    "    \n",
    "    dict_courses = {\n",
    "        1: \"Advanced Python\",\n",
    "        2: \"Signal and System\",\n",
    "        3: \"IPM\",\n",
    "        4: \"FRENCH\"\n",
    "    }\n",
    "\n",
    "    print(\"\"\"\n",
    "        Courses that you can select:\n",
    "        1.Advanced Python \n",
    "        2.Signal and System\n",
    "        3.IPM\n",
    "        4.FRENCH\n",
    "        \"\"\")\n",
    "\n",
    "    for i in range(nums):\n",
    "        course = int(input(f'select the {i+1} course : '))\n",
    "        print(dict_courses[course])\n",
    "        mark = int(input(f'your fukin mark for {dict_courses.get(course)} : '))\n",
    "        course_list[dict_courses.get(course)] = mark\n",
    "        \n",
    "    return course_list\n",
    "# select_course(2)"
   ]
  },
  {
   "cell_type": "code",
   "execution_count": 89,
   "metadata": {},
   "outputs": [
    {
     "name": "stdout",
     "output_type": "stream",
     "text": [
      "Name: aiden\n",
      "ID: 124\n",
      "Date Of Birth: jan 12\n",
      "Input the fukin number(how many course you want) : 2\n",
      "\n",
      "        Courses that you can select:\n",
      "        1.Advanced Python \n",
      "        2.Signal and System\n",
      "        3.IPM\n",
      "        4.FRENCH\n",
      "        \n",
      "select the 1 course : 1\n",
      "Advanced Python\n",
      "your fukin mark for Advanced Python : 10\n",
      "select the 2 course : 4\n",
      "FRENCH\n",
      "your fukin mark for FRENCH : 8\n",
      "Name: na\n",
      "ID: 010\n",
      "Date Of Birth: mar 23\n",
      "Input the fukin number(how many course you want) : 2\n",
      "\n",
      "        Courses that you can select:\n",
      "        1.Advanced Python \n",
      "        2.Signal and System\n",
      "        3.IPM\n",
      "        4.FRENCH\n",
      "        \n",
      "select the 1 course : 1\n",
      "Advanced Python\n",
      "your fukin mark for Advanced Python : 7\n",
      "select the 2 course : 2\n",
      "Signal and System\n",
      "your fukin mark for Signal and System : 8\n"
     ]
    }
   ],
   "source": [
    "student_list = []\n",
    "\n",
    "def input_func(nums):\n",
    "    for i in range(nums):\n",
    "        \n",
    "        each_student = {}\n",
    "        \n",
    "        name = str(input('Name: '))\n",
    "        sid = int(input('ID: '))\n",
    "        dob = str(input('Date Of Birth: '))\n",
    "        \n",
    "        each_student['Name'] = name\n",
    "        each_student['ID'] = sid\n",
    "        each_student['BoD'] = dob\n",
    "        \n",
    "        course = input('Input the fukin number(how many course you want) : ')\n",
    "#         course = 2 \n",
    "        \n",
    "        each_student['course'] = select_course(nums)\n",
    "        \n",
    "        student_list.append(each_student)\n",
    "    # student(sid,name,dob)\n",
    "\n",
    "nums_of_student = 2\n",
    "input_func(nums_of_student)"
   ]
  },
  {
   "cell_type": "code",
   "execution_count": 147,
   "metadata": {},
   "outputs": [
    {
     "name": "stdout",
     "output_type": "stream",
     "text": [
      "Total student : 2\n",
      "List Student : aiden,na\n",
      "Number of Student register Advanced Python : 2\n",
      "Number of Student register FRENCH : 1\n",
      "Number of Student register Signal and System : 1\n"
     ]
    }
   ],
   "source": [
    "def listing():\n",
    "    ls = []\n",
    "    print('Total student :',len(student_list))\n",
    "    print('List Student :',','.join(list(student_list[_]['Name'] for _ in range(len(student_list)))))\n",
    "    \n",
    "    for _ in range(len(student_list)):\n",
    "        ls1 = [ls.append(i) for i in list(student_list[_].get('course'))]\n",
    "    total_course = Counter(ls)\n",
    "    \n",
    "    for i in range(len(total_course)):\n",
    "        print(f'Number of Student register {list(total_course.keys())[i]} : {total_course[list(total_course.keys())[i]]}')\n",
    "        \n",
    "    try:\n",
    "        \n",
    "    except as e: \n",
    "        print(\"ERROR\",e)\n",
    "    \n",
    "listing()   "
   ]
  },
  {
   "cell_type": "code",
   "execution_count": 91,
   "metadata": {},
   "outputs": [
    {
     "data": {
      "text/plain": [
       "Counter({'Advanced Python': 10, 'FRENCH': 8})"
      ]
     },
     "execution_count": 91,
     "metadata": {},
     "output_type": "execute_result"
    }
   ],
   "source": [
    " Counter(student_list[0]['course'])"
   ]
  },
  {
   "cell_type": "code",
   "execution_count": 86,
   "metadata": {},
   "outputs": [
    {
     "data": {
      "text/plain": [
       "{'aiden': {'ID': 124,\n",
       "  'BoD': 'jan 12',\n",
       "  'course': {'Advanced Python': 10, 'FRENCH': 8}}}"
      ]
     },
     "execution_count": 86,
     "metadata": {},
     "output_type": "execute_result"
    }
   ],
   "source": [
    "student_list[0]"
   ]
  },
  {
   "cell_type": "code",
   "execution_count": 92,
   "metadata": {},
   "outputs": [
    {
     "data": {
      "text/plain": [
       "[{'Name': 'aiden',\n",
       "  'ID': 124,\n",
       "  'BoD': 'jan 12',\n",
       "  'course': {'Advanced Python': 10, 'FRENCH': 8}},\n",
       " {'Name': 'na',\n",
       "  'ID': 10,\n",
       "  'BoD': 'mar 23',\n",
       "  'course': {'Advanced Python': 7, 'Signal and System': 8}}]"
      ]
     },
     "execution_count": 92,
     "metadata": {},
     "output_type": "execute_result"
    }
   ],
   "source": [
    "s1 = json.dumps(student_list)\n",
    "json.loads(s1)"
   ]
  },
  {
   "cell_type": "code",
   "execution_count": 126,
   "metadata": {},
   "outputs": [],
   "source": [
    "ls = []\n",
    "for _ in range(len(student_list)):\n",
    "    ls1 = [ls.append(i) for i in list(student_list[_].get('course'))]\n",
    "a = Counter(ls)"
   ]
  },
  {
   "cell_type": "code",
   "execution_count": 146,
   "metadata": {},
   "outputs": [
    {
     "name": "stdout",
     "output_type": "stream",
     "text": [
      "dict_keys(['Advanced Python', 'FRENCH', 'Signal and System'])\n",
      "dict_keys(['Advanced Python', 'FRENCH', 'Signal and System'])\n",
      "dict_keys(['Advanced Python', 'FRENCH', 'Signal and System'])\n"
     ]
    }
   ],
   "source": [
    "for i in range(len(a)):\n",
    "    print(a.keys())\n",
    "#     print(list(a.keys())[i])"
   ]
  },
  {
   "cell_type": "code",
   "execution_count": 138,
   "metadata": {},
   "outputs": [
    {
     "data": {
      "text/plain": [
       "'Advanced Python'"
      ]
     },
     "execution_count": 138,
     "metadata": {},
     "output_type": "execute_result"
    }
   ],
   "source": [
    "list(a.keys())[0]"
   ]
  },
  {
   "cell_type": "code",
   "execution_count": 152,
   "metadata": {},
   "outputs": [
    {
     "ename": "KeyError",
     "evalue": "'FRENCH'",
     "output_type": "error",
     "traceback": [
      "\u001b[1;31m---------------------------------------------------------------------------\u001b[0m",
      "\u001b[1;31mKeyError\u001b[0m                                  Traceback (most recent call last)",
      "\u001b[1;32m<ipython-input-152-ff0e5f2883ed>\u001b[0m in \u001b[0;36m<module>\u001b[1;34m\u001b[0m\n\u001b[0;32m      1\u001b[0m \u001b[1;32mfor\u001b[0m \u001b[0mi\u001b[0m \u001b[1;32min\u001b[0m \u001b[0mstudent_list\u001b[0m\u001b[1;33m:\u001b[0m\u001b[1;33m\u001b[0m\u001b[1;33m\u001b[0m\u001b[0m\n\u001b[0;32m      2\u001b[0m     \u001b[1;32mif\u001b[0m \u001b[1;34m'Advanced Python'\u001b[0m \u001b[1;32min\u001b[0m \u001b[0mi\u001b[0m\u001b[1;33m[\u001b[0m\u001b[1;34m'course'\u001b[0m\u001b[1;33m]\u001b[0m\u001b[1;33m:\u001b[0m\u001b[1;33m\u001b[0m\u001b[1;33m\u001b[0m\u001b[0m\n\u001b[1;32m----> 3\u001b[1;33m         \u001b[0mprint\u001b[0m\u001b[1;33m(\u001b[0m\u001b[0mi\u001b[0m\u001b[1;33m[\u001b[0m\u001b[1;34m'FRENCH'\u001b[0m\u001b[1;33m]\u001b[0m\u001b[1;33m)\u001b[0m\u001b[1;33m\u001b[0m\u001b[1;33m\u001b[0m\u001b[0m\n\u001b[0m",
      "\u001b[1;31mKeyError\u001b[0m: 'FRENCH'"
     ]
    }
   ],
   "source": [
    "for i in student_list:\n",
    "    if 'Advanced Python' in i['course']:\n",
    "        print(i['FRENCH'])"
   ]
  },
  {
   "cell_type": "code",
   "execution_count": null,
   "metadata": {},
   "outputs": [],
   "source": []
  }
 ],
 "metadata": {
  "kernelspec": {
   "display_name": "Python 3",
   "language": "python",
   "name": "python3"
  },
  "language_info": {
   "codemirror_mode": {
    "name": "ipython",
    "version": 3
   },
   "file_extension": ".py",
   "mimetype": "text/x-python",
   "name": "python",
   "nbconvert_exporter": "python",
   "pygments_lexer": "ipython3",
   "version": "3.8.5"
  }
 },
 "nbformat": 4,
 "nbformat_minor": 4
}
